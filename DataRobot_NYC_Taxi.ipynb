{
 "cells": [
  {
   "cell_type": "code",
   "execution_count": 2,
   "metadata": {
    "collapsed": true
   },
   "outputs": [],
   "source": [
    "import datarobot as dr\n",
    "import pandas as pd"
   ]
  },
  {
   "cell_type": "code",
   "execution_count": 3,
   "metadata": {},
   "outputs": [
    {
     "data": {
      "text/html": [
       "<div>\n",
       "<style scoped>\n",
       "    .dataframe tbody tr th:only-of-type {\n",
       "        vertical-align: middle;\n",
       "    }\n",
       "\n",
       "    .dataframe tbody tr th {\n",
       "        vertical-align: top;\n",
       "    }\n",
       "\n",
       "    .dataframe thead th {\n",
       "        text-align: right;\n",
       "    }\n",
       "</style>\n",
       "<table border=\"1\" class=\"dataframe\">\n",
       "  <thead>\n",
       "    <tr style=\"text-align: right;\">\n",
       "      <th></th>\n",
       "      <th>id</th>\n",
       "      <th>vendor_id</th>\n",
       "      <th>pickup_datetime</th>\n",
       "      <th>dropoff_datetime</th>\n",
       "      <th>passenger_count</th>\n",
       "      <th>pickup_longitude</th>\n",
       "      <th>pickup_latitude</th>\n",
       "      <th>dropoff_longitude</th>\n",
       "      <th>dropoff_latitude</th>\n",
       "      <th>store_and_fwd_flag</th>\n",
       "      <th>trip_duration</th>\n",
       "    </tr>\n",
       "  </thead>\n",
       "  <tbody>\n",
       "    <tr>\n",
       "      <th>0</th>\n",
       "      <td>id2875421</td>\n",
       "      <td>2</td>\n",
       "      <td>2016-03-14 17:24:55</td>\n",
       "      <td>2016-03-14 17:32:30</td>\n",
       "      <td>1</td>\n",
       "      <td>-73.982155</td>\n",
       "      <td>40.767937</td>\n",
       "      <td>-73.964630</td>\n",
       "      <td>40.765602</td>\n",
       "      <td>N</td>\n",
       "      <td>455</td>\n",
       "    </tr>\n",
       "    <tr>\n",
       "      <th>1</th>\n",
       "      <td>id2377394</td>\n",
       "      <td>1</td>\n",
       "      <td>2016-06-12 00:43:35</td>\n",
       "      <td>2016-06-12 00:54:38</td>\n",
       "      <td>1</td>\n",
       "      <td>-73.980415</td>\n",
       "      <td>40.738564</td>\n",
       "      <td>-73.999481</td>\n",
       "      <td>40.731152</td>\n",
       "      <td>N</td>\n",
       "      <td>663</td>\n",
       "    </tr>\n",
       "    <tr>\n",
       "      <th>2</th>\n",
       "      <td>id3858529</td>\n",
       "      <td>2</td>\n",
       "      <td>2016-01-19 11:35:24</td>\n",
       "      <td>2016-01-19 12:10:48</td>\n",
       "      <td>1</td>\n",
       "      <td>-73.979027</td>\n",
       "      <td>40.763939</td>\n",
       "      <td>-74.005333</td>\n",
       "      <td>40.710087</td>\n",
       "      <td>N</td>\n",
       "      <td>2124</td>\n",
       "    </tr>\n",
       "    <tr>\n",
       "      <th>3</th>\n",
       "      <td>id3504673</td>\n",
       "      <td>2</td>\n",
       "      <td>2016-04-06 19:32:31</td>\n",
       "      <td>2016-04-06 19:39:40</td>\n",
       "      <td>1</td>\n",
       "      <td>-74.010040</td>\n",
       "      <td>40.719971</td>\n",
       "      <td>-74.012268</td>\n",
       "      <td>40.706718</td>\n",
       "      <td>N</td>\n",
       "      <td>429</td>\n",
       "    </tr>\n",
       "    <tr>\n",
       "      <th>4</th>\n",
       "      <td>id2181028</td>\n",
       "      <td>2</td>\n",
       "      <td>2016-03-26 13:30:55</td>\n",
       "      <td>2016-03-26 13:38:10</td>\n",
       "      <td>1</td>\n",
       "      <td>-73.973053</td>\n",
       "      <td>40.793209</td>\n",
       "      <td>-73.972923</td>\n",
       "      <td>40.782520</td>\n",
       "      <td>N</td>\n",
       "      <td>435</td>\n",
       "    </tr>\n",
       "  </tbody>\n",
       "</table>\n",
       "</div>"
      ],
      "text/plain": [
       "          id  vendor_id      pickup_datetime     dropoff_datetime  \\\n",
       "0  id2875421          2  2016-03-14 17:24:55  2016-03-14 17:32:30   \n",
       "1  id2377394          1  2016-06-12 00:43:35  2016-06-12 00:54:38   \n",
       "2  id3858529          2  2016-01-19 11:35:24  2016-01-19 12:10:48   \n",
       "3  id3504673          2  2016-04-06 19:32:31  2016-04-06 19:39:40   \n",
       "4  id2181028          2  2016-03-26 13:30:55  2016-03-26 13:38:10   \n",
       "\n",
       "   passenger_count  pickup_longitude  pickup_latitude  dropoff_longitude  \\\n",
       "0                1        -73.982155        40.767937         -73.964630   \n",
       "1                1        -73.980415        40.738564         -73.999481   \n",
       "2                1        -73.979027        40.763939         -74.005333   \n",
       "3                1        -74.010040        40.719971         -74.012268   \n",
       "4                1        -73.973053        40.793209         -73.972923   \n",
       "\n",
       "   dropoff_latitude store_and_fwd_flag  trip_duration  \n",
       "0         40.765602                  N            455  \n",
       "1         40.731152                  N            663  \n",
       "2         40.710087                  N           2124  \n",
       "3         40.706718                  N            429  \n",
       "4         40.782520                  N            435  "
      ]
     },
     "execution_count": 3,
     "metadata": {},
     "output_type": "execute_result"
    }
   ],
   "source": [
    "data_path = \"/Users/alinamazi/Documents/Data/NYC-Taxi-sample/train.csv\"\n",
    "NYC_taxi = pd.read_csv(data_path)\n",
    "NYC_taxi.head()"
   ]
  },
  {
   "cell_type": "code",
   "execution_count": 5,
   "metadata": {},
   "outputs": [
    {
     "data": {
      "text/plain": [
       "<datarobot.rest.RESTClientObject at 0x10e6a34a8>"
      ]
     },
     "execution_count": 5,
     "metadata": {},
     "output_type": "execute_result"
    }
   ],
   "source": [
    "dr.Client(token=\"QKDGCC0Vsko-bVzM1frkxAgCYEdEz1Om\",endpoint=\"https://app.datarobot.com/api/v2\")"
   ]
  },
  {
   "cell_type": "code",
   "execution_count": 6,
   "metadata": {},
   "outputs": [
    {
     "data": {
      "text/plain": [
       "'5a148dc4aeeb3603671562fc'"
      ]
     },
     "execution_count": 6,
     "metadata": {},
     "output_type": "execute_result"
    }
   ],
   "source": [
    "project = dr.Project.start(NYC_taxi,\n",
    "                           project_name='NYC_Taxi_Duration',\n",
    "                           target=\"trip_duration\")\n",
    "project.id"
   ]
  },
  {
   "cell_type": "code",
   "execution_count": 7,
   "metadata": {},
   "outputs": [
    {
     "data": {
      "text/plain": [
       "True"
      ]
     },
     "execution_count": 7,
     "metadata": {},
     "output_type": "execute_result"
    }
   ],
   "source": [
    "project.open_leaderboard_browser()"
   ]
  },
  {
   "cell_type": "code",
   "execution_count": 8,
   "metadata": {},
   "outputs": [
    {
     "data": {
      "text/plain": [
       "[ModelJob(Elastic-Net Regressor (L2 / Gamma Deviance), status=queue),\n",
       " ModelJob(RandomForest Regressor, status=queue),\n",
       " ModelJob(Vowpal Wabbit Regressor, status=queue),\n",
       " ModelJob(Generalized Additive2 Model (Gamma Loss), status=queue),\n",
       " ModelJob(Elastic-Net Regressor (L2 / Gamma Deviance), status=queue),\n",
       " ModelJob(Elastic-Net Regressor (L2 / Gamma Deviance) with Binned numeric features, status=queue),\n",
       " ModelJob(Elastic-Net Regressor (mixing alpha=0.5 / Gamma Deviance), status=queue),\n",
       " ModelJob(Auto-tuned Stochastic Gradient Descent Regression, status=queue),\n",
       " ModelJob(RandomForest Regressor, status=queue),\n",
       " ModelJob(Nystroem Kernel SVM Regressor - Forest (5x), status=queue),\n",
       " ModelJob(eXtreme Gradient Boosted Trees Regressor with Early Stopping (learning rate =0.07) (Fast Feature Binning), status=queue),\n",
       " ModelJob(eXtreme Gradient Boosted Trees Regressor with Early Stopping (learning rate =0.07) (Gamma Loss) (Fast Feature Binning), status=queue),\n",
       " ModelJob(eXtreme Gradient Boosted Trees Regressor with Early Stopping (learning rate =0.07) (Poisson Loss) (Fast Feature Binning), status=queue),\n",
       " ModelJob(eXtreme Gradient Boosted Trees Regressor with Early Stopping (learning rate =0.07) (Gamma Loss) (Fast Feature Binning) and Unsupervised Learning Features, status=queue),\n",
       " ModelJob(Elastic-Net Regressor (mixing alpha=0.5 / Gamma Deviance) with Unsupervised Learning Features, status=queue),\n",
       " ModelJob(Mean Response Regressor, status=inprogress),\n",
       " ModelJob(Ridge Regressor, status=inprogress),\n",
       " ModelJob(eXtreme Gradient Boosted Trees Regressor with Early Stopping (learning rate =0.07) (Gamma Loss) (Fast Feature Binning), status=queue)]"
      ]
     },
     "execution_count": 8,
     "metadata": {},
     "output_type": "execute_result"
    }
   ],
   "source": [
    "project.get_model_jobs()"
   ]
  },
  {
   "cell_type": "code",
   "execution_count": 10,
   "metadata": {},
   "outputs": [
    {
     "data": {
      "text/plain": [
       "[Feature(dropoff_datetime (Day of Month)),\n",
       " Feature(pickup_datetime),\n",
       " Feature(dropoff_datetime (Day of Week)),\n",
       " Feature(trip_duration),\n",
       " Feature(dropoff_datetime (Hour of Day)),\n",
       " Feature(vendor_id),\n",
       " Feature(dropoff_datetime),\n",
       " Feature(id),\n",
       " Feature(dropoff_longitude),\n",
       " Feature(passenger_count),\n",
       " Feature(pickup_longitude),\n",
       " Feature(pickup_datetime (Day of Month)),\n",
       " Feature(pickup_datetime (Hour of Day)),\n",
       " Feature(store_and_fwd_flag),\n",
       " Feature(pickup_latitude),\n",
       " Feature(dropoff_latitude),\n",
       " Feature(pickup_datetime (Day of Week))]"
      ]
     },
     "execution_count": 10,
     "metadata": {},
     "output_type": "execute_result"
    }
   ],
   "source": [
    "features = project.get_features()\n",
    "features"
   ]
  },
  {
   "cell_type": "code",
   "execution_count": 11,
   "metadata": {},
   "outputs": [
    {
     "data": {
      "text/html": [
       "<div>\n",
       "<style scoped>\n",
       "    .dataframe tbody tr th:only-of-type {\n",
       "        vertical-align: middle;\n",
       "    }\n",
       "\n",
       "    .dataframe tbody tr th {\n",
       "        vertical-align: top;\n",
       "    }\n",
       "\n",
       "    .dataframe thead th {\n",
       "        text-align: right;\n",
       "    }\n",
       "</style>\n",
       "<table border=\"1\" class=\"dataframe\">\n",
       "  <thead>\n",
       "    <tr style=\"text-align: right;\">\n",
       "      <th></th>\n",
       "      <th>date_format</th>\n",
       "      <th>feature_type</th>\n",
       "      <th>id</th>\n",
       "      <th>importance</th>\n",
       "      <th>low_information</th>\n",
       "      <th>na_count</th>\n",
       "      <th>name</th>\n",
       "      <th>project_id</th>\n",
       "      <th>unique_count</th>\n",
       "    </tr>\n",
       "  </thead>\n",
       "  <tbody>\n",
       "    <tr>\n",
       "      <th>0</th>\n",
       "      <td>None</td>\n",
       "      <td>Numeric</td>\n",
       "      <td>15</td>\n",
       "      <td>-0.002080</td>\n",
       "      <td>True</td>\n",
       "      <td>0.0</td>\n",
       "      <td>dropoff_datetime (Day of Month)</td>\n",
       "      <td>5a148dc4aeeb3603671562fc</td>\n",
       "      <td>31</td>\n",
       "    </tr>\n",
       "    <tr>\n",
       "      <th>1</th>\n",
       "      <td>%Y-%m-%d %H:%M:%S</td>\n",
       "      <td>Date</td>\n",
       "      <td>2</td>\n",
       "      <td>-0.005577</td>\n",
       "      <td>True</td>\n",
       "      <td>0.0</td>\n",
       "      <td>pickup_datetime</td>\n",
       "      <td>5a148dc4aeeb3603671562fc</td>\n",
       "      <td>1116411</td>\n",
       "    </tr>\n",
       "    <tr>\n",
       "      <th>2</th>\n",
       "      <td>None</td>\n",
       "      <td>Categorical</td>\n",
       "      <td>16</td>\n",
       "      <td>-0.004473</td>\n",
       "      <td>True</td>\n",
       "      <td>0.0</td>\n",
       "      <td>dropoff_datetime (Day of Week)</td>\n",
       "      <td>5a148dc4aeeb3603671562fc</td>\n",
       "      <td>7</td>\n",
       "    </tr>\n",
       "    <tr>\n",
       "      <th>3</th>\n",
       "      <td>None</td>\n",
       "      <td>Numeric</td>\n",
       "      <td>10</td>\n",
       "      <td>1.000000</td>\n",
       "      <td>False</td>\n",
       "      <td>0.0</td>\n",
       "      <td>trip_duration</td>\n",
       "      <td>5a148dc4aeeb3603671562fc</td>\n",
       "      <td>7045</td>\n",
       "    </tr>\n",
       "    <tr>\n",
       "      <th>4</th>\n",
       "      <td>None</td>\n",
       "      <td>Categorical</td>\n",
       "      <td>14</td>\n",
       "      <td>-0.000655</td>\n",
       "      <td>True</td>\n",
       "      <td>0.0</td>\n",
       "      <td>dropoff_datetime (Hour of Day)</td>\n",
       "      <td>5a148dc4aeeb3603671562fc</td>\n",
       "      <td>24</td>\n",
       "    </tr>\n",
       "    <tr>\n",
       "      <th>5</th>\n",
       "      <td>None</td>\n",
       "      <td>Numeric</td>\n",
       "      <td>1</td>\n",
       "      <td>0.024106</td>\n",
       "      <td>False</td>\n",
       "      <td>0.0</td>\n",
       "      <td>vendor_id</td>\n",
       "      <td>5a148dc4aeeb3603671562fc</td>\n",
       "      <td>2</td>\n",
       "    </tr>\n",
       "    <tr>\n",
       "      <th>6</th>\n",
       "      <td>%Y-%m-%d %H:%M:%S</td>\n",
       "      <td>Date</td>\n",
       "      <td>3</td>\n",
       "      <td>-0.005513</td>\n",
       "      <td>True</td>\n",
       "      <td>0.0</td>\n",
       "      <td>dropoff_datetime</td>\n",
       "      <td>5a148dc4aeeb3603671562fc</td>\n",
       "      <td>1116467</td>\n",
       "    </tr>\n",
       "    <tr>\n",
       "      <th>7</th>\n",
       "      <td>None</td>\n",
       "      <td>None</td>\n",
       "      <td>0</td>\n",
       "      <td>NaN</td>\n",
       "      <td>True</td>\n",
       "      <td>NaN</td>\n",
       "      <td>id</td>\n",
       "      <td>5a148dc4aeeb3603671562fc</td>\n",
       "      <td>1458644</td>\n",
       "    </tr>\n",
       "    <tr>\n",
       "      <th>8</th>\n",
       "      <td>None</td>\n",
       "      <td>Numeric</td>\n",
       "      <td>7</td>\n",
       "      <td>0.057483</td>\n",
       "      <td>False</td>\n",
       "      <td>0.0</td>\n",
       "      <td>dropoff_longitude</td>\n",
       "      <td>5a148dc4aeeb3603671562fc</td>\n",
       "      <td>31840</td>\n",
       "    </tr>\n",
       "    <tr>\n",
       "      <th>9</th>\n",
       "      <td>None</td>\n",
       "      <td>Numeric</td>\n",
       "      <td>4</td>\n",
       "      <td>-0.001239</td>\n",
       "      <td>True</td>\n",
       "      <td>0.0</td>\n",
       "      <td>passenger_count</td>\n",
       "      <td>5a148dc4aeeb3603671562fc</td>\n",
       "      <td>10</td>\n",
       "    </tr>\n",
       "    <tr>\n",
       "      <th>10</th>\n",
       "      <td>None</td>\n",
       "      <td>Numeric</td>\n",
       "      <td>5</td>\n",
       "      <td>0.058960</td>\n",
       "      <td>False</td>\n",
       "      <td>0.0</td>\n",
       "      <td>pickup_longitude</td>\n",
       "      <td>5a148dc4aeeb3603671562fc</td>\n",
       "      <td>21890</td>\n",
       "    </tr>\n",
       "    <tr>\n",
       "      <th>11</th>\n",
       "      <td>None</td>\n",
       "      <td>Numeric</td>\n",
       "      <td>12</td>\n",
       "      <td>-0.002862</td>\n",
       "      <td>True</td>\n",
       "      <td>0.0</td>\n",
       "      <td>pickup_datetime (Day of Month)</td>\n",
       "      <td>5a148dc4aeeb3603671562fc</td>\n",
       "      <td>31</td>\n",
       "    </tr>\n",
       "    <tr>\n",
       "      <th>12</th>\n",
       "      <td>None</td>\n",
       "      <td>Categorical</td>\n",
       "      <td>11</td>\n",
       "      <td>-0.005706</td>\n",
       "      <td>True</td>\n",
       "      <td>0.0</td>\n",
       "      <td>pickup_datetime (Hour of Day)</td>\n",
       "      <td>5a148dc4aeeb3603671562fc</td>\n",
       "      <td>24</td>\n",
       "    </tr>\n",
       "    <tr>\n",
       "      <th>13</th>\n",
       "      <td>None</td>\n",
       "      <td>Categorical</td>\n",
       "      <td>9</td>\n",
       "      <td>-0.069015</td>\n",
       "      <td>True</td>\n",
       "      <td>0.0</td>\n",
       "      <td>store_and_fwd_flag</td>\n",
       "      <td>5a148dc4aeeb3603671562fc</td>\n",
       "      <td>2</td>\n",
       "    </tr>\n",
       "    <tr>\n",
       "      <th>14</th>\n",
       "      <td>None</td>\n",
       "      <td>Numeric</td>\n",
       "      <td>6</td>\n",
       "      <td>0.026481</td>\n",
       "      <td>False</td>\n",
       "      <td>0.0</td>\n",
       "      <td>pickup_latitude</td>\n",
       "      <td>5a148dc4aeeb3603671562fc</td>\n",
       "      <td>43452</td>\n",
       "    </tr>\n",
       "    <tr>\n",
       "      <th>15</th>\n",
       "      <td>None</td>\n",
       "      <td>Numeric</td>\n",
       "      <td>8</td>\n",
       "      <td>0.059490</td>\n",
       "      <td>False</td>\n",
       "      <td>0.0</td>\n",
       "      <td>dropoff_latitude</td>\n",
       "      <td>5a148dc4aeeb3603671562fc</td>\n",
       "      <td>59633</td>\n",
       "    </tr>\n",
       "    <tr>\n",
       "      <th>16</th>\n",
       "      <td>None</td>\n",
       "      <td>Categorical</td>\n",
       "      <td>13</td>\n",
       "      <td>0.001520</td>\n",
       "      <td>True</td>\n",
       "      <td>0.0</td>\n",
       "      <td>pickup_datetime (Day of Week)</td>\n",
       "      <td>5a148dc4aeeb3603671562fc</td>\n",
       "      <td>7</td>\n",
       "    </tr>\n",
       "  </tbody>\n",
       "</table>\n",
       "</div>"
      ],
      "text/plain": [
       "          date_format feature_type  id  importance  low_information  na_count  \\\n",
       "0                None      Numeric  15   -0.002080             True       0.0   \n",
       "1   %Y-%m-%d %H:%M:%S         Date   2   -0.005577             True       0.0   \n",
       "2                None  Categorical  16   -0.004473             True       0.0   \n",
       "3                None      Numeric  10    1.000000            False       0.0   \n",
       "4                None  Categorical  14   -0.000655             True       0.0   \n",
       "5                None      Numeric   1    0.024106            False       0.0   \n",
       "6   %Y-%m-%d %H:%M:%S         Date   3   -0.005513             True       0.0   \n",
       "7                None         None   0         NaN             True       NaN   \n",
       "8                None      Numeric   7    0.057483            False       0.0   \n",
       "9                None      Numeric   4   -0.001239             True       0.0   \n",
       "10               None      Numeric   5    0.058960            False       0.0   \n",
       "11               None      Numeric  12   -0.002862             True       0.0   \n",
       "12               None  Categorical  11   -0.005706             True       0.0   \n",
       "13               None  Categorical   9   -0.069015             True       0.0   \n",
       "14               None      Numeric   6    0.026481            False       0.0   \n",
       "15               None      Numeric   8    0.059490            False       0.0   \n",
       "16               None  Categorical  13    0.001520             True       0.0   \n",
       "\n",
       "                               name                project_id  unique_count  \n",
       "0   dropoff_datetime (Day of Month)  5a148dc4aeeb3603671562fc            31  \n",
       "1                   pickup_datetime  5a148dc4aeeb3603671562fc       1116411  \n",
       "2    dropoff_datetime (Day of Week)  5a148dc4aeeb3603671562fc             7  \n",
       "3                     trip_duration  5a148dc4aeeb3603671562fc          7045  \n",
       "4    dropoff_datetime (Hour of Day)  5a148dc4aeeb3603671562fc            24  \n",
       "5                         vendor_id  5a148dc4aeeb3603671562fc             2  \n",
       "6                  dropoff_datetime  5a148dc4aeeb3603671562fc       1116467  \n",
       "7                                id  5a148dc4aeeb3603671562fc       1458644  \n",
       "8                 dropoff_longitude  5a148dc4aeeb3603671562fc         31840  \n",
       "9                   passenger_count  5a148dc4aeeb3603671562fc            10  \n",
       "10                 pickup_longitude  5a148dc4aeeb3603671562fc         21890  \n",
       "11   pickup_datetime (Day of Month)  5a148dc4aeeb3603671562fc            31  \n",
       "12    pickup_datetime (Hour of Day)  5a148dc4aeeb3603671562fc            24  \n",
       "13               store_and_fwd_flag  5a148dc4aeeb3603671562fc             2  \n",
       "14                  pickup_latitude  5a148dc4aeeb3603671562fc         43452  \n",
       "15                 dropoff_latitude  5a148dc4aeeb3603671562fc         59633  \n",
       "16    pickup_datetime (Day of Week)  5a148dc4aeeb3603671562fc             7  "
      ]
     },
     "execution_count": 11,
     "metadata": {},
     "output_type": "execute_result"
    }
   ],
   "source": [
    "pd.DataFrame([f.__dict__ for f in features])"
   ]
  },
  {
   "cell_type": "code",
   "execution_count": 12,
   "metadata": {},
   "outputs": [
    {
     "data": {
      "text/plain": [
       "[Featurelist(Raw Features),\n",
       " Featurelist(Informative Features),\n",
       " Featurelist(Univariate Selections)]"
      ]
     },
     "execution_count": 12,
     "metadata": {},
     "output_type": "execute_result"
    }
   ],
   "source": [
    "feature_lists = project.get_featurelists()\n",
    "feature_lists"
   ]
  },
  {
   "cell_type": "code",
   "execution_count": 13,
   "metadata": {},
   "outputs": [
    {
     "data": {
      "text/plain": [
       "{'autopilot_done': False,\n",
       " 'stage': 'modeling',\n",
       " 'stage_description': 'Ready for modeling'}"
      ]
     },
     "execution_count": 13,
     "metadata": {},
     "output_type": "execute_result"
    }
   ],
   "source": [
    "project.get_status()"
   ]
  },
  {
   "cell_type": "code",
   "execution_count": 14,
   "metadata": {},
   "outputs": [
    {
     "data": {
      "text/plain": [
       "Model('Gradient Boosted Trees Regressor (Least-Squares Loss)')"
      ]
     },
     "execution_count": 14,
     "metadata": {},
     "output_type": "execute_result"
    }
   ],
   "source": [
    "models = project.get_models()\n",
    "example_model = models[0]\n",
    "example_model"
   ]
  },
  {
   "cell_type": "code",
   "execution_count": 15,
   "metadata": {},
   "outputs": [
    {
     "data": {
      "text/plain": [
       "[Model('Gradient Boosted Trees Regressor (Least-Squares Loss)'),\n",
       " Model('Decision Tree Regressor'),\n",
       " Model('RandomForest Regressor'),\n",
       " Model('TensorFlow Neural Network Regressor'),\n",
       " Model('Ridge Regressor'),\n",
       " Model('Mean Response Regressor'),\n",
       " Model('Ridge Regressor'),\n",
       " Model('Linear Regression')]"
      ]
     },
     "execution_count": 15,
     "metadata": {},
     "output_type": "execute_result"
    }
   ],
   "source": [
    "models"
   ]
  },
  {
   "cell_type": "code",
   "execution_count": 20,
   "metadata": {},
   "outputs": [
    {
     "data": {
      "text/plain": [
       "{'FVE Gamma': {'backtesting': None,\n",
       "  'backtestingScores': None,\n",
       "  'crossValidation': None,\n",
       "  'holdout': None,\n",
       "  'validation': 0.51415},\n",
       " 'FVE Poisson': {'backtesting': None,\n",
       "  'backtestingScores': None,\n",
       "  'crossValidation': None,\n",
       "  'holdout': None,\n",
       "  'validation': 0.56685},\n",
       " 'FVE Tweedie': {'backtesting': None,\n",
       "  'backtestingScores': None,\n",
       "  'crossValidation': None,\n",
       "  'holdout': None,\n",
       "  'validation': 0.59229},\n",
       " 'Gamma Deviance': {'backtesting': None,\n",
       "  'backtestingScores': None,\n",
       "  'crossValidation': None,\n",
       "  'holdout': None,\n",
       "  'validation': 0.39793},\n",
       " 'Gini Norm': {'backtesting': None,\n",
       "  'backtestingScores': None,\n",
       "  'crossValidation': None,\n",
       "  'holdout': None,\n",
       "  'validation': 0.7229},\n",
       " 'MAE': {'backtesting': None,\n",
       "  'backtestingScores': None,\n",
       "  'crossValidation': None,\n",
       "  'holdout': None,\n",
       "  'validation': 438.72575},\n",
       " 'MAPE': {'backtesting': None,\n",
       "  'backtestingScores': None,\n",
       "  'crossValidation': None,\n",
       "  'holdout': None,\n",
       "  'validation': 122.27649},\n",
       " 'Poisson Deviance': {'backtesting': None,\n",
       "  'backtestingScores': None,\n",
       "  'crossValidation': None,\n",
       "  'holdout': None,\n",
       "  'validation': 653.75106},\n",
       " 'R Squared': {'backtesting': None,\n",
       "  'backtestingScores': None,\n",
       "  'crossValidation': None,\n",
       "  'holdout': None,\n",
       "  'validation': 0.068},\n",
       " 'RMSE': {'backtesting': None,\n",
       "  'backtestingScores': None,\n",
       "  'crossValidation': None,\n",
       "  'holdout': None,\n",
       "  'validation': 8653.92892},\n",
       " 'RMSLE': {'backtesting': None,\n",
       "  'backtestingScores': None,\n",
       "  'crossValidation': None,\n",
       "  'holdout': None,\n",
       "  'validation': 0.7072},\n",
       " 'Tweedie Deviance': {'backtesting': None,\n",
       "  'backtestingScores': None,\n",
       "  'crossValidation': None,\n",
       "  'holdout': None,\n",
       "  'validation': 11.81581}}"
      ]
     },
     "execution_count": 20,
     "metadata": {},
     "output_type": "execute_result"
    }
   ],
   "source": [
    "example_model.metrics"
   ]
  },
  {
   "cell_type": "code",
   "execution_count": 34,
   "metadata": {},
   "outputs": [
    {
     "data": {
      "text/plain": [
       "Model('GLM Blender')"
      ]
     },
     "execution_count": 34,
     "metadata": {},
     "output_type": "execute_result"
    }
   ],
   "source": [
    "models = project.get_models()\n",
    "models[0]"
   ]
  },
  {
   "cell_type": "code",
   "execution_count": 21,
   "metadata": {
    "collapsed": true
   },
   "outputs": [],
   "source": [
    "def sorted_by_gamma_deviance(models, test_set):\n",
    "    models_with_score = [model for model in models if\n",
    "                         model.metrics['Gamma Deviance'][test_set] is not None]\n",
    "    return sorted(models_with_score,\n",
    "                  key=lambda model: model.metrics['Gamma Deviance'][test_set])\n"
   ]
  },
  {
   "cell_type": "code",
   "execution_count": 25,
   "metadata": {},
   "outputs": [
    {
     "data": {
      "text/plain": [
       "16"
      ]
     },
     "execution_count": 25,
     "metadata": {},
     "output_type": "execute_result"
    }
   ],
   "source": [
    "informative_feats = [lst for lst in feature_lists if\n",
    "                     lst.name == 'Informative Features'][0]\n",
    "\n",
    "\n",
    "len(informative_feats.features)"
   ]
  },
  {
   "cell_type": "code",
   "execution_count": 32,
   "metadata": {
    "collapsed": true
   },
   "outputs": [],
   "source": [
    "# fair_models = [mod for mod in models if\n",
    "#                mod.featurelist_id == no_foreknowledge.id]\n",
    "informative_models = [mod for mod in models if\n",
    "                     mod.featurelist_id == informative_feats.id]"
   ]
  },
  {
   "cell_type": "code",
   "execution_count": 38,
   "metadata": {},
   "outputs": [
    {
     "data": {
      "text/plain": [
       "Model('eXtreme Gradient Boosted Trees Regressor with Early Stopping (learning rate =0.07) (Gamma Loss) (Fast Feature Binning)')"
      ]
     },
     "execution_count": 38,
     "metadata": {},
     "output_type": "execute_result"
    }
   ],
   "source": [
    "best_informative_models = sorted_by_gamma_deviance(informative_models, 'validation')[0]\n",
    "#best_informative_models.metrics#, best_cheat_model.metrics\n",
    "best_informative_models"
   ]
  },
  {
   "cell_type": "code",
   "execution_count": null,
   "metadata": {
    "collapsed": true
   },
   "outputs": [],
   "source": []
  }
 ],
 "metadata": {
  "kernelspec": {
   "display_name": "py36",
   "language": "python",
   "name": "py36"
  },
  "language_info": {
   "codemirror_mode": {
    "name": "ipython",
    "version": 3
   },
   "file_extension": ".py",
   "mimetype": "text/x-python",
   "name": "python",
   "nbconvert_exporter": "python",
   "pygments_lexer": "ipython3",
   "version": "3.6.1"
  }
 },
 "nbformat": 4,
 "nbformat_minor": 2
}
